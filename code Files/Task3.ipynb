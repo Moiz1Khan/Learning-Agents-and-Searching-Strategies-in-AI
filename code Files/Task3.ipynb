{
 "cells": [
  {
   "cell_type": "code",
   "execution_count": 3,
   "id": "4d436dd7",
   "metadata": {},
   "outputs": [
    {
     "name": "stdout",
     "output_type": "stream",
     "text": [
      "Defaulting to user installation because normal site-packages is not writeable\n",
      "Requirement already satisfied: scikit-learn in c:\\users\\m o i z\\appdata\\roaming\\python\\python311\\site-packages (1.4.2)\n",
      "Requirement already satisfied: threadpoolctl in c:\\users\\m o i z\\appdata\\roaming\\python\\python311\\site-packages (3.5.0)\n",
      "Requirement already satisfied: numpy>=1.19.5 in e:\\programdata\\anaconda3\\lib\\site-packages (from scikit-learn) (1.24.3)\n",
      "Requirement already satisfied: scipy>=1.6.0 in e:\\programdata\\anaconda3\\lib\\site-packages (from scikit-learn) (1.10.1)\n",
      "Requirement already satisfied: joblib>=1.2.0 in e:\\programdata\\anaconda3\\lib\\site-packages (from scikit-learn) (1.2.0)\n",
      "Note: you may need to restart the kernel to use updated packages.\n"
     ]
    }
   ],
   "source": [
    "pip install --upgrade scikit-learn threadpoolctl"
   ]
  },
  {
   "cell_type": "code",
   "execution_count": 1,
   "id": "9cc583d8",
   "metadata": {},
   "outputs": [
    {
     "name": "stdout",
     "output_type": "stream",
     "text": [
      "CS: 704\n",
      "EE: 682\n",
      "AI: 660\n",
      "BBA: 660\n"
     ]
    }
   ],
   "source": [
    "import csv\n",
    "\n",
    "# Define the file path\n",
    "file_path = 'Students.csv'\n",
    "\n",
    "# Initialize department counters\n",
    "department_counts = {'CS': 0, 'EE': 0, 'AI': 0, 'BBA': 0}\n",
    "\n",
    "# Read the CSV file\n",
    "with open(file_path, 'r') as file:\n",
    "    reader = csv.DictReader(file)\n",
    "    \n",
    "    # Iterate over each row in the CSV file\n",
    "    for row in reader:\n",
    "        # Extract the department from the row\n",
    "        department = row['Dept']\n",
    "        \n",
    "        # Increment the count for the department\n",
    "        if department in department_counts:\n",
    "            department_counts[department] += 1\n",
    "\n",
    "# Print the department counts\n",
    "for department, count in department_counts.items():\n",
    "    print(f\"{department}: {count}\")"
   ]
  },
  {
   "cell_type": "code",
   "execution_count": 4,
   "id": "57a81618",
   "metadata": {},
   "outputs": [],
   "source": [
    "import pandas as pd\n",
    "from sklearn.cluster import KMeans\n",
    "from sklearn.preprocessing import OneHotEncoder\n",
    "import os\n",
    "\n",
    "# Load the data\n",
    "students_df = pd.read_csv('Students.csv')\n",
    "teachers_df = pd.read_csv('Teachers.csv')\n",
    "\n",
    "# Define the number of rooms and their capacities\n",
    "num_rooms = 30\n",
    "room_capacities = [30] * 25 + [25] * 5  # 25 rooms with 30 seats, 5 rooms with 25 seats\n",
    "\n",
    "# Define the exam schedule\n",
    "exam_schedule = {\n",
    "    'Monday': 'CS',\n",
    "    'Tuesday': 'EE',\n",
    "    'Wednesday': 'AI',\n",
    "    'Thursday': 'BBA'\n",
    "}\n",
    "\n",
    "# Perform one-hot encoding on the categorical features\n",
    "encoder = OneHotEncoder()\n",
    "X = encoder.fit_transform(students_df[['Batch', 'Dept']]).toarray()\n",
    "\n",
    "# Perform k-means clustering\n",
    "kmeans = KMeans(n_clusters=len(exam_schedule), n_init=10, random_state=42)\n",
    "students_df['Cluster'] = kmeans.fit_predict(X)\n",
    "\n",
    "# Generate the seating plan and faculty allocation\n",
    "exam_management_report = []\n",
    "for day, dept in exam_schedule.items():\n",
    "    students = students_df[students_df['Dept'] == dept]\n",
    "    clusters = students['Cluster'].unique()\n",
    "    for cluster in clusters:\n",
    "        cluster_students = students[students['Cluster'] == cluster]\n",
    "        room_num = 1\n",
    "        for i in range(0, len(cluster_students), room_capacities[0]):\n",
    "            batch_students = cluster_students.iloc[i:i+room_capacities[0]]\n",
    "            faculty = teachers_df[teachers_df['Dept'] == dept].sample(1)\n",
    "            for _, student in batch_students.iterrows():\n",
    "                exam_management_report.append({\n",
    "                    'Room': f'Room {room_num}',\n",
    "                    'Cluster': cluster,\n",
    "                    'Batch': student['Batch'],\n",
    "                    'Department': student['Dept'],\n",
    "                    'Exam Day': day,\n",
    "                    'Student Name': student['Name'],\n",
    "                    'Student ID': student['ID'],\n",
    "                    'Faculty': faculty['Name'].values[0]\n",
    "                })\n",
    "            room_num += 1\n",
    "\n",
    "# Save the report to a CSV file\n",
    "exam_management_report_df = pd.DataFrame(exam_management_report)\n",
    "exam_management_report_df.to_csv(\"exam_management_report.csv\", index=False)\n",
    "\n",
    "os.startfile(\"exam_management_report.csv\")\n"
   ]
  },
  {
   "cell_type": "code",
   "execution_count": null,
   "id": "d513e37c",
   "metadata": {},
   "outputs": [],
   "source": []
  }
 ],
 "metadata": {
  "kernelspec": {
   "display_name": "Python 3 (ipykernel)",
   "language": "python",
   "name": "python3"
  },
  "language_info": {
   "codemirror_mode": {
    "name": "ipython",
    "version": 3
   },
   "file_extension": ".py",
   "mimetype": "text/x-python",
   "name": "python",
   "nbconvert_exporter": "python",
   "pygments_lexer": "ipython3",
   "version": "3.11.4"
  }
 },
 "nbformat": 4,
 "nbformat_minor": 5
}
