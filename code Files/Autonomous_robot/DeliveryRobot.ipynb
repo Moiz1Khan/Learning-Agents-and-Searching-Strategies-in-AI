{
 "cells": [
  {
   "cell_type": "code",
   "execution_count": 3,
   "metadata": {},
   "outputs": [],
   "source": [
    "import sys\n",
    "import matplotlib.pyplot as plt\n",
    "from matplotlib.backends.backend_qt5agg import FigureCanvasQTAgg as FigureCanvas\n",
    "from PyQt5.QtWidgets import QApplication, QMainWindow, QVBoxLayout, QWidget, QPushButton\n",
    "import numpy as np\n",
    "from queue import PriorityQueue\n",
    "import time\n",
    "import math"
   ]
  },
  {
   "cell_type": "code",
   "execution_count": null,
   "metadata": {},
   "outputs": [],
   "source": [
    "# grid size and initialize a grid of zeros. We also set the starting location for the robot (start) and define locations for buildings, houses, and vehicles."
   ]
  },
  {
   "cell_type": "code",
   "execution_count": 4,
   "metadata": {},
   "outputs": [],
   "source": [
    "# Define the grid size and create a grid\n",
    "grid_size = 15\n",
    "grid = np.zeros((grid_size, grid_size))"
   ]
  },
  {
   "cell_type": "code",
   "execution_count": 5,
   "metadata": {},
   "outputs": [],
   "source": [
    "# Define start location for the robot\n",
    "start = (0, 0)\n",
    "current_location = start"
   ]
  },
  {
   "cell_type": "code",
   "execution_count": 6,
   "metadata": {},
   "outputs": [],
   "source": [
    "# Define locations for buildings, houses, delivery points, and vehicles\n",
    "buildings = [(2, 3), (4, 5), (6, 8)]\n",
    "houses = [(10, 12), (2, 7)]\n",
    "vehicles = [(5, 10), (10, 6)]"
   ]
  },
  {
   "cell_type": "code",
   "execution_count": 7,
   "metadata": {},
   "outputs": [],
   "source": [
    "# This section generates random delivery points on the grid, ensuring they do not overlap with buildings, houses, or other delivery points.\n",
    "# Generate delivery points randomly\n",
    "num_delivery_points = 5\n",
    "delivery_points = []\n",
    "for _ in range(num_delivery_points):\n",
    "    x = np.random.randint(grid_size)\n",
    "    y = np.random.randint(grid_size)\n",
    "    while (x, y) in buildings or (x, y) in houses or (x, y) in delivery_points:\n",
    "        x = np.random.randint(grid_size)\n",
    "        y = np.random.randint(grid_size)\n",
    "    delivery_points.append((x, y))"
   ]
  },
  {
   "cell_type": "code",
   "execution_count": 8,
   "metadata": {},
   "outputs": [],
   "source": [
    "# Mark buildings, houses, delivery points, and vehicles on the grid\n",
    "for building in buildings:\n",
    "    grid[building[0], building[1]] = 1\n",
    "\n",
    "for house in houses:\n",
    "    grid[house[0], house[1]] = 2\n",
    "\n",
    "for point in delivery_points:\n",
    "    grid[point[0], point[1]] = 3\n",
    "\n",
    "for vehicle in vehicles:\n",
    "    grid[vehicle[0], vehicle[1]] = 4"
   ]
  },
  {
   "cell_type": "code",
   "execution_count": 9,
   "metadata": {},
   "outputs": [],
   "source": [
    "#calculate random cost b/w (1,20)\n",
    "def random_cost(current, next):\n",
    "    return np.random.randint(1, 21)  # Random cost between 1 and 20"
   ]
  },
  {
   "cell_type": "code",
   "execution_count": 10,
   "metadata": {},
   "outputs": [],
   "source": [
    "#This get_neighbors function is used to find neighboring cells around a given cell current\n",
    "\n",
    "def get_neighbors(current, grid):\n",
    "    neighbors = []\n",
    "    x, y = current\n",
    "    for dx in [-1, 0, 1]:\n",
    "        for dy in [-1, 0, 1]:\n",
    "            if dx != 0 or dy != 0:\n",
    "                if 0 <= x + dx < len(grid) and 0 <= y + dy < len(grid[0]) and grid[x + dx][y + dy] != 1:\n",
    "                    neighbors.append((x + dx, y + dy))\n",
    "    return neighbors"
   ]
  },
  {
   "cell_type": "code",
   "execution_count": 11,
   "metadata": {},
   "outputs": [],
   "source": [
    "def heuristic(current, goal):\n",
    "    x1, y1 = current\n",
    "    x2, y2 = goal\n",
    "    return math.sqrt((x1 - x2)**2 + (y1 - y2)**2)    "
   ]
  },
  {
   "cell_type": "code",
   "execution_count": 13,
   "metadata": {},
   "outputs": [],
   "source": [
    "# Define A* Search algorithm\n",
    "def a_star_search(start, goal, grid):\n",
    "    frontier = PriorityQueue()\n",
    "    frontier.put(start, 0)\n",
    "    came_from = {}\n",
    "    cost_so_far = {}\n",
    "    came_from[start] = None\n",
    "    cost_so_far[start] = 0\n",
    "\n",
    "    while not frontier.empty():\n",
    "        current = frontier.get()\n",
    "\n",
    "        if current == goal:\n",
    "            break\n",
    "\n",
    "        for next in get_neighbors(current, grid):\n",
    "            new_cost = cost_so_far[current] + random_cost(current, next)\n",
    "            if next not in cost_so_far or new_cost < cost_so_far[next]:\n",
    "                cost_so_far[next] = new_cost\n",
    "                priority = new_cost + heuristic(next, goal)\n",
    "                frontier.put(next, priority)\n",
    "                came_from[next] = current\n",
    "\n",
    "    return came_from\n",
    "    "
   ]
  },
  {
   "cell_type": "code",
   "execution_count": 14,
   "metadata": {},
   "outputs": [],
   "source": [
    "# Define Best First Search algorithm\n",
    "def best_first_search(start, goal, grid):\n",
    "    frontier = PriorityQueue()\n",
    "    frontier.put(start, 0)\n",
    "    came_from = {}\n",
    "    cost_so_far = {}\n",
    "    came_from[start] = None\n",
    "    cost_so_far[start] = 0\n",
    "\n",
    "    while not frontier.empty():\n",
    "        current = frontier.get()\n",
    "\n",
    "        if current == goal:\n",
    "            break\n",
    "\n",
    "        for next in get_neighbors(current, grid):\n",
    "            new_cost = cost_so_far[current] + random_cost(current, next)\n",
    "            if next not in cost_so_far or new_cost < cost_so_far[next]:\n",
    "                cost_so_far[next] = new_cost\n",
    "                priority = heuristic(next, goal)\n",
    "                frontier.put(next, priority)\n",
    "                came_from[next] = current\n",
    "\n",
    "    return came_from"
   ]
  },
  {
   "cell_type": "code",
   "execution_count": 15,
   "metadata": {},
   "outputs": [],
   "source": [
    "\n",
    "# The find_path_to_delivery_points function is responsible for finding paths from a starting location to each delivery point using both the Best First Search and A* Search algorithms.\n",
    "\n",
    "\n",
    "def find_path_to_delivery_points(start, delivery_points, grid):\n",
    "    paths_to_points_best_first = {}\n",
    "    paths_to_points_a_star = {}\n",
    "    current_location = start\n",
    "    \n",
    "    for idx, point in enumerate(delivery_points):\n",
    "        # Best First Search\n",
    "        came_from_best_first = best_first_search(current_location, point, grid)\n",
    "        path_best_first = []\n",
    "        current_best_first = point\n",
    "        while current_best_first != current_location:\n",
    "            path_best_first.append(current_best_first)\n",
    "            current_best_first = came_from_best_first[current_best_first]\n",
    "        path_best_first.append(current_location)\n",
    "        path_best_first.reverse()\n",
    "        paths_to_points_best_first[idx + 1] = path_best_first\n",
    "        current_location = point\n",
    "        \n",
    "        # A* Search\n",
    "        came_from_a_star = a_star_search(current_location, point, grid)\n",
    "        path_a_star = []\n",
    "        current_a_star = point\n",
    "        while current_a_star != current_location:\n",
    "            path_a_star.append(current_a_star)\n",
    "            current_a_star = came_from_a_star[current_a_star]\n",
    "        path_a_star.append(current_location)\n",
    "        path_a_star.reverse()\n",
    "        paths_to_points_a_star[idx + 1] = path_a_star\n",
    "        current_location = point\n",
    "    \n",
    "    # Compare paths and choose the best one based on your criteria\n",
    "    best_path = None\n",
    "    best_algorithm = None\n",
    "    shortest_length = float('inf')  # Initialize with a large value\n",
    "\n",
    "    for algorithm, path in paths_to_points_best_first.items():\n",
    "        if len(path) < shortest_length:\n",
    "            shortest_length = len(path)\n",
    "            best_path = path\n",
    "            print(paths_to_points_a_star)\n",
    "            best_algorithm = 'Best First Search'\n",
    "\n",
    "    for algorithm, path in paths_to_points_a_star.items():\n",
    "        if len(path) < shortest_length:\n",
    "            shortest_length = len(path)\n",
    "            best_path = path\n",
    "            best_algorithm = 'A* Search'\n",
    "\n",
    "    return paths_to_points_best_first, paths_to_points_a_star, best_path, best_algorithm\n",
    "\n"
   ]
  },
  {
   "cell_type": "code",
   "execution_count": 16,
   "metadata": {},
   "outputs": [
    {
     "name": "stdout",
     "output_type": "stream",
     "text": [
      "{1: [(0, 1)], 2: [(14, 13)], 3: [(10, 14)], 4: [(12, 8)], 5: [(13, 0)]}\n",
      "Best path with length 2\n",
      "Best path with length 23\n",
      "Best path with length 10\n",
      "Best path with length 9\n",
      "Best path with length 10\n"
     ]
    },
    {
     "data": {
      "image/png": "[encoded data removed]",
      "text/plain": [
       "<Figure size 774x531 with 1 Axes>"
      ]
     },
     "metadata": {},
     "output_type": "display_data"
    }
   ],
   "source": [
    "\n",
    "class RobotMovementWindow(QMainWindow):\n",
    "    def __init__(self):\n",
    "        super().__init__()\n",
    "\n",
    "        self.setWindowTitle('Robot Movement Visualization')\n",
    "        self.setGeometry(100, 100, 800, 600)\n",
    "\n",
    "        # Create a Matplotlib figure and canvas\n",
    "        self.figure, self.ax = plt.subplots()\n",
    "        self.canvas = FigureCanvas(self.figure)\n",
    "\n",
    "        # Create a button to start the robot movement animation\n",
    "        self.start_button = QPushButton('Start Robot Movement', self)\n",
    "        self.start_button.clicked.connect(self.animate_robot_movement)\n",
    "\n",
    "        # Create a vertical layout for the widgets\n",
    "        layout = QVBoxLayout()\n",
    "        layout.addWidget(self.canvas)\n",
    "        layout.addWidget(self.start_button)\n",
    "\n",
    "        # Create a central widget to set the layout\n",
    "        central_widget = QWidget()\n",
    "        central_widget.setLayout(layout)\n",
    "        self.setCentralWidget(central_widget)\n",
    "\n",
    "        # Visualize the initial grid\n",
    "        self.update_grid()\n",
    "        \n",
    "    def update_grid(self):\n",
    "        self.ax.clear()\n",
    "        self.ax.imshow(grid, cmap='viridis', interpolation='nearest')\n",
    "        self.ax.set_title('City Area with Obstacles and Delivery Points')\n",
    "        self.canvas.draw()\n",
    "\n",
    "    def animate_robot_movement(self):\n",
    "        # Call the find_path_to_delivery_points method to get paths\n",
    "        paths_to_delivery_points = find_path_to_delivery_points(current_location, delivery_points, grid)\n",
    "        paths_best_first, paths_a_star,best_path,algo = paths_to_delivery_points\n",
    "\n",
    "        for idx in paths_best_first:\n",
    "            path_best_first = paths_best_first[idx]\n",
    "            path_a_star = paths_a_star[idx]\n",
    "            self.update_grid()\n",
    "\n",
    "            # Update the grid visualization with the best path\n",
    "            for i in range(len(path_best_first) - 1):\n",
    "                x1, y1 = path_best_first[i]\n",
    "                x2, y2 = path_best_first[i + 1]\n",
    "                grid[x1, y1] = 5  # Mark the current cell as visited\n",
    "                grid[x2, y2] = 4  # Mark the next cell as the robot's current location\n",
    "                self.update_grid()  # Update the grid visualization\n",
    "                QApplication.processEvents()  # Allow the GUI to update\n",
    "                time.sleep(0.5)  # Pause for visualization (adjust as needed)\n",
    "\n",
    "            # Update the current location of the robot to the final delivery point\n",
    "            self.current_location = path_best_first[-1]\n",
    "            grid[self.current_location[0], self.current_location[1]] = 3  # Mark the final cell as the delivery point\n",
    "            self.update_grid()  # Update the grid visualization\n",
    "            QApplication.processEvents()  # Allow the GUI to update\n",
    "            time.sleep(1)  # Pause for visualization (adjust as needed)\n",
    "\n",
    "            # Print or display the best algorithm and path information\n",
    "            print(f\"Best path with length {len(path_best_first)}\")\n",
    "# Create the PyQt5 application and window\n",
    "app = QApplication(sys.argv)\n",
    "window = RobotMovementWindow()\n",
    "window.show()\n",
    "app.exec_()\n",
    "app.exit()\n",
    "# sys.exit(app.exec_())"
   ]
  },
  {
   "cell_type": "code",
   "execution_count": null,
   "metadata": {},
   "outputs": [],
   "source": []
  },
  {
   "cell_type": "code",
   "execution_count": null,
   "metadata": {},
   "outputs": [],
   "source": []
  }
 ],
 "metadata": {
  "kernelspec": {
   "display_name": "Python 3",
   "language": "python",
   "name": "python3"
  },
  "language_info": {
   "codemirror_mode": {
    "name": "ipython",
    "version": 3
   },
   "file_extension": ".py",
   "mimetype": "text/x-python",
   "name": "python",
   "nbconvert_exporter": "python",
   "pygments_lexer": "ipython3",
   "version": "3.12.3"
  }
 },
 "nbformat": 4,
 "nbformat_minor": 2
}
